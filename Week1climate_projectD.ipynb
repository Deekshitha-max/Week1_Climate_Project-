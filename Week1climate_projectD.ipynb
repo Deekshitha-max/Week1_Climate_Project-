{
  "nbformat": 4,
  "nbformat_minor": 0,
  "metadata": {
    "colab": {
      "provenance": [],
      "authorship_tag": "ABX9TyMN2hsnD6iqjRC1kjDA5epv",
      "include_colab_link": true
    },
    "kernelspec": {
      "name": "python3",
      "display_name": "Python 3"
    },
    "language_info": {
      "name": "python"
    }
  },
  "cells": [
    {
      "cell_type": "markdown",
      "metadata": {
        "id": "view-in-github",
        "colab_type": "text"
      },
      "source": [
        "<a href=\"https://colab.research.google.com/github/Deekshitha-max/Week1_Climate_Project-/blob/main/Week1climate_projectD.ipynb\" target=\"_parent\"><img src=\"https://colab.research.google.com/assets/colab-badge.svg\" alt=\"Open In Colab\"/></a>"
      ]
    },
    {
      "cell_type": "code",
      "execution_count": 2,
      "metadata": {
        "id": "VMgBkKZRdysc",
        "colab": {
          "base_uri": "https://localhost:8080/"
        },
        "outputId": "aaac70e4-5f46-490a-89d0-c536c3196f08"
      },
      "outputs": [
        {
          "output_type": "stream",
          "name": "stdout",
          "text": [
            "Warning: Looks like you're using an outdated `kagglehub` version (installed: 0.3.12), please consider upgrading to the latest version (0.3.13).\n",
            "Downloading from https://www.kaggle.com/api/v1/datasets/download/thedevastator/global-climate-risk-index-and-related-economic-l?dataset_version_number=2...\n"
          ]
        },
        {
          "output_type": "stream",
          "name": "stderr",
          "text": [
            "100%|██████████| 6.33k/6.33k [00:00<00:00, 8.90MB/s]"
          ]
        },
        {
          "output_type": "stream",
          "name": "stdout",
          "text": [
            "Extracting files...\n",
            "Path to dataset files: /root/.cache/kagglehub/datasets/thedevastator/global-climate-risk-index-and-related-economic-l/versions/2\n"
          ]
        },
        {
          "output_type": "stream",
          "name": "stderr",
          "text": [
            "\n"
          ]
        }
      ],
      "source": [
        "import kagglehub\n",
        "\n",
        "# Download latest version\n",
        "path = kagglehub.dataset_download(\"thedevastator/global-climate-risk-index-and-related-economic-l\")\n",
        "\n",
        "print(\"Path to dataset files:\", path)"
      ]
    },
    {
      "cell_type": "code",
      "source": [
        "import pandas as pd\n",
        "csv_file_path = os.path.join(path, 'climate-risk-index-1.csv')\n",
        "\n",
        "\n"
      ],
      "metadata": {
        "id": "dQ0SBwjtkIRK"
      },
      "execution_count": 19,
      "outputs": []
    },
    {
      "cell_type": "code",
      "source": [
        "df=pd.read_csv(csv_file_path)\n"
      ],
      "metadata": {
        "id": "v42meQIqoozc"
      },
      "execution_count": 18,
      "outputs": []
    },
    {
      "cell_type": "code",
      "source": [
        "print(df.info())\n",
        "print(df.describe())\n",
        "print(df.isnull().sum())"
      ],
      "metadata": {
        "colab": {
          "base_uri": "https://localhost:8080/"
        },
        "id": "KmDsawp0ovUc",
        "outputId": "accb540b-b67b-4ff8-c56e-d5db0b781be9"
      },
      "execution_count": 17,
      "outputs": [
        {
          "output_type": "stream",
          "name": "stdout",
          "text": [
            "<class 'pandas.core.frame.DataFrame'>\n",
            "RangeIndex: 182 entries, 0 to 181\n",
            "Data columns (total 17 columns):\n",
            " #   Column                     Non-Null Count  Dtype  \n",
            "---  ------                     --------------  -----  \n",
            " 0   index                      182 non-null    int64  \n",
            " 1   cartodb_id                 182 non-null    int64  \n",
            " 2   the_geom                   0 non-null      float64\n",
            " 3   the_geom_webmercator       0 non-null      float64\n",
            " 4   country                    182 non-null    object \n",
            " 5   cri_rank                   182 non-null    int64  \n",
            " 6   cri_score                  182 non-null    float64\n",
            " 7   fatalities_per_100k_rank   182 non-null    int64  \n",
            " 8   fatalities_per_100k_total  182 non-null    float64\n",
            " 9   fatalities_rank            182 non-null    int64  \n",
            " 10  fatalities_total           182 non-null    int64  \n",
            " 11  losses_per_gdp__rank       182 non-null    int64  \n",
            " 12  losses_per_gdp__total      131 non-null    float64\n",
            " 13  losses_usdm_ppp_rank       182 non-null    int64  \n",
            " 14  losses_usdm_ppp_total      182 non-null    float64\n",
            " 15  rw_country_code            179 non-null    object \n",
            " 16  rw_country_name            179 non-null    object \n",
            "dtypes: float64(6), int64(8), object(3)\n",
            "memory usage: 24.3+ KB\n",
            "None\n",
            "            index  cartodb_id  the_geom  the_geom_webmercator    cri_rank  \\\n",
            "count  182.000000  182.000000       0.0                   0.0  182.000000   \n",
            "mean    90.500000   91.500000       NaN                   NaN   85.230769   \n",
            "std     52.683014   52.683014       NaN                   NaN   44.708529   \n",
            "min      0.000000    1.000000       NaN                   NaN    1.000000   \n",
            "25%     45.250000   46.250000       NaN                   NaN   46.250000   \n",
            "50%     90.500000   91.500000       NaN                   NaN   91.000000   \n",
            "75%    135.750000  136.750000       NaN                   NaN  135.000000   \n",
            "max    181.000000  182.000000       NaN                   NaN  135.000000   \n",
            "\n",
            "        cri_score  fatalities_per_100k_rank  fatalities_per_100k_total  \\\n",
            "count  182.000000                182.000000                 182.000000   \n",
            "mean    81.791923                 78.609890                   0.519670   \n",
            "std     34.582412                 37.858511                   3.393934   \n",
            "min     12.170000                  1.000000                   0.000000   \n",
            "25%     52.872500                 46.250000                   0.000000   \n",
            "50%     77.500000                 91.500000                   0.020000   \n",
            "75%    124.500000                114.000000                   0.120000   \n",
            "max    124.500000                114.000000                  43.660000   \n",
            "\n",
            "       fatalities_rank  fatalities_total  losses_per_gdp__rank  \\\n",
            "count       182.000000        182.000000            182.000000   \n",
            "mean         77.626374         86.840659             85.302198   \n",
            "std          37.500688        427.350623             44.691600   \n",
            "min           1.000000          0.000000              1.000000   \n",
            "25%          46.250000          0.000000             46.250000   \n",
            "50%          90.000000          2.000000             91.500000   \n",
            "75%         114.000000         22.750000            135.000000   \n",
            "max         114.000000       4317.000000            135.000000   \n",
            "\n",
            "       losses_per_gdp__total  losses_usdm_ppp_rank  losses_usdm_ppp_total  \n",
            "count             131.000000            182.000000             182.000000  \n",
            "mean                1.517654             85.302198             907.507599  \n",
            "std                 8.171267             44.691600            4483.998505  \n",
            "min                 0.000100              1.000000               0.000000  \n",
            "25%                 0.016500             46.250000               0.000000  \n",
            "50%                 0.084100             91.500000              30.347000  \n",
            "75%                 0.275950            135.000000             262.178250  \n",
            "max                77.369400            135.000000           40077.222000  \n",
            "index                          0\n",
            "cartodb_id                     0\n",
            "the_geom                     182\n",
            "the_geom_webmercator         182\n",
            "country                        0\n",
            "cri_rank                       0\n",
            "cri_score                      0\n",
            "fatalities_per_100k_rank       0\n",
            "fatalities_per_100k_total      0\n",
            "fatalities_rank                0\n",
            "fatalities_total               0\n",
            "losses_per_gdp__rank           0\n",
            "losses_per_gdp__total         51\n",
            "losses_usdm_ppp_rank           0\n",
            "losses_usdm_ppp_total          0\n",
            "rw_country_code                3\n",
            "rw_country_name                3\n",
            "dtype: int64\n"
          ]
        }
      ]
    }
  ]
}